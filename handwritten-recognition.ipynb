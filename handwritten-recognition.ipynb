{
 "cells": [
  {
   "cell_type": "markdown",
   "id": "b795479f",
   "metadata": {
    "papermill": {
     "duration": 0.005405,
     "end_time": "2022-05-25T03:07:00.870831",
     "exception": false,
     "start_time": "2022-05-25T03:07:00.865426",
     "status": "completed"
    },
    "tags": []
   },
   "source": [
    "[https://github.com/jungomi/math-formula-recognition](https://github.com/jungomi/math-formula-recognition)"
   ]
  },
  {
   "cell_type": "code",
   "execution_count": 1,
   "id": "1f7c80a0",
   "metadata": {
    "execution": {
     "iopub.execute_input": "2022-05-25T03:07:00.882865Z",
     "iopub.status.busy": "2022-05-25T03:07:00.882289Z",
     "iopub.status.idle": "2022-05-25T03:07:15.173351Z",
     "shell.execute_reply": "2022-05-25T03:07:15.171954Z"
    },
    "papermill": {
     "duration": 14.29971,
     "end_time": "2022-05-25T03:07:15.175745",
     "exception": false,
     "start_time": "2022-05-25T03:07:00.876035",
     "status": "completed"
    },
    "tags": []
   },
   "outputs": [
    {
     "name": "stdout",
     "output_type": "stream",
     "text": [
      "Requirement already satisfied: tensorboardX in /opt/conda/lib/python3.7/site-packages (2.5)\r\n",
      "Requirement already satisfied: numpy in /opt/conda/lib/python3.7/site-packages (from tensorboardX) (1.21.6)\r\n",
      "Requirement already satisfied: protobuf>=3.8.0 in /opt/conda/lib/python3.7/site-packages (from tensorboardX) (3.19.4)\r\n",
      "Requirement already satisfied: six in /opt/conda/lib/python3.7/site-packages (from tensorboardX) (1.16.0)\r\n",
      "\u001b[33mWARNING: Running pip as the 'root' user can result in broken permissions and conflicting behaviour with the system package manager. It is recommended to use a virtual environment instead: https://pip.pypa.io/warnings/venv\u001b[0m\u001b[33m\r\n",
      "\u001b[0m"
     ]
    }
   ],
   "source": [
    "# Install the requirements\n",
    "# !pip install --upgrade --force-reinstall -r requirements.txt\n",
    "!pip install tensorboardX"
   ]
  },
  {
   "cell_type": "code",
   "execution_count": null,
   "id": "c7972c24",
   "metadata": {
    "papermill": {
     "duration": 0.004212,
     "end_time": "2022-05-25T03:07:15.184258",
     "exception": false,
     "start_time": "2022-05-25T03:07:15.180046",
     "status": "completed"
    },
    "tags": []
   },
   "outputs": [],
   "source": []
  }
 ],
 "metadata": {
  "kernelspec": {
   "display_name": "Python 3",
   "language": "python",
   "name": "python3"
  },
  "language_info": {
   "codemirror_mode": {
    "name": "ipython",
    "version": 3
   },
   "file_extension": ".py",
   "mimetype": "text/x-python",
   "name": "python",
   "nbconvert_exporter": "python",
   "pygments_lexer": "ipython3",
   "version": "3.7.12"
  },
  "papermill": {
   "default_parameters": {},
   "duration": 27.428734,
   "end_time": "2022-05-25T03:07:16.212974",
   "environment_variables": {},
   "exception": null,
   "input_path": "__notebook__.ipynb",
   "output_path": "__notebook__.ipynb",
   "parameters": {},
   "start_time": "2022-05-25T03:06:48.784240",
   "version": "2.3.4"
  }
 },
 "nbformat": 4,
 "nbformat_minor": 5
}
