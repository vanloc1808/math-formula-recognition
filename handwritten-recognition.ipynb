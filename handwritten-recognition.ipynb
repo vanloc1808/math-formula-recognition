{
 "cells": [
  {
   "cell_type": "markdown",
   "id": "188db80b",
   "metadata": {
    "papermill": {
     "duration": 0.005285,
     "end_time": "2022-05-25T03:11:22.870922",
     "exception": false,
     "start_time": "2022-05-25T03:11:22.865637",
     "status": "completed"
    },
    "tags": []
   },
   "source": [
    "[https://github.com/jungomi/math-formula-recognition](https://github.com/jungomi/math-formula-recognition)"
   ]
  },
  {
   "cell_type": "code",
   "execution_count": 1,
   "id": "a7279c24",
   "metadata": {
    "execution": {
     "iopub.execute_input": "2022-05-25T03:11:22.881614Z",
     "iopub.status.busy": "2022-05-25T03:11:22.880986Z",
     "iopub.status.idle": "2022-05-25T03:11:35.843303Z",
     "shell.execute_reply": "2022-05-25T03:11:35.842267Z"
    },
    "papermill": {
     "duration": 12.970868,
     "end_time": "2022-05-25T03:11:35.846209",
     "exception": false,
     "start_time": "2022-05-25T03:11:22.875341",
     "status": "completed"
    },
    "tags": []
   },
   "outputs": [
    {
     "name": "stdout",
     "output_type": "stream",
     "text": [
      "Requirement already satisfied: tensorboardX in /opt/conda/lib/python3.7/site-packages (2.5)\r\n",
      "Requirement already satisfied: protobuf>=3.8.0 in /opt/conda/lib/python3.7/site-packages (from tensorboardX) (3.19.4)\r\n",
      "Requirement already satisfied: six in /opt/conda/lib/python3.7/site-packages (from tensorboardX) (1.16.0)\r\n",
      "Requirement already satisfied: numpy in /opt/conda/lib/python3.7/site-packages (from tensorboardX) (1.21.6)\r\n",
      "\u001b[33mWARNING: Running pip as the 'root' user can result in broken permissions and conflicting behaviour with the system package manager. It is recommended to use a virtual environment instead: https://pip.pypa.io/warnings/venv\u001b[0m\u001b[33m\r\n",
      "\u001b[0m"
     ]
    }
   ],
   "source": [
    "# Install the requirements\n",
    "# !pip install --upgrade --force-reinstall -r requirements.txt\n",
    "!pip install tensorboardX"
   ]
  },
  {
   "cell_type": "code",
   "execution_count": 2,
   "id": "1eb3542d",
   "metadata": {
    "execution": {
     "iopub.execute_input": "2022-05-25T03:11:35.859448Z",
     "iopub.status.busy": "2022-05-25T03:11:35.859100Z",
     "iopub.status.idle": "2022-05-25T03:11:36.735505Z",
     "shell.execute_reply": "2022-05-25T03:11:36.734050Z"
    },
    "papermill": {
     "duration": 0.886126,
     "end_time": "2022-05-25T03:11:36.738432",
     "exception": false,
     "start_time": "2022-05-25T03:11:35.852306",
     "status": "completed"
    },
    "tags": []
   },
   "outputs": [
    {
     "name": "stdout",
     "output_type": "stream",
     "text": [
      "python: can't open file 'train.py': [Errno 2] No such file or directory\r\n"
     ]
    }
   ],
   "source": [
    "!python train.py --prefix \"good-luck-\" -n 5 -c checkpoints/good-luck-0001.pth"
   ]
  }
 ],
 "metadata": {
  "kernelspec": {
   "display_name": "Python 3",
   "language": "python",
   "name": "python3"
  },
  "language_info": {
   "codemirror_mode": {
    "name": "ipython",
    "version": 3
   },
   "file_extension": ".py",
   "mimetype": "text/x-python",
   "name": "python",
   "nbconvert_exporter": "python",
   "pygments_lexer": "ipython3",
   "version": "3.7.12"
  },
  "papermill": {
   "default_parameters": {},
   "duration": 25.630365,
   "end_time": "2022-05-25T03:11:37.467096",
   "environment_variables": {},
   "exception": null,
   "input_path": "__notebook__.ipynb",
   "output_path": "__notebook__.ipynb",
   "parameters": {},
   "start_time": "2022-05-25T03:11:11.836731",
   "version": "2.3.4"
  }
 },
 "nbformat": 4,
 "nbformat_minor": 5
}
